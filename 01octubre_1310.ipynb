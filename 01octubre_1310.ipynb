{
  "nbformat": 4,
  "nbformat_minor": 0,
  "metadata": {
    "colab": {
      "name": "01octubre_1310.ipynb",
      "provenance": [],
      "authorship_tag": "ABX9TyO10ZoPUrxTLUh/JucYu2OT",
      "include_colab_link": true
    },
    "kernelspec": {
      "name": "python3",
      "display_name": "Python 3"
    }
  },
  "cells": [
    {
      "cell_type": "markdown",
      "metadata": {
        "id": "view-in-github",
        "colab_type": "text"
      },
      "source": [
        "<a href=\"https://colab.research.google.com/github/SebastianZR/edd_1310_2021/blob/master/01octubre_1310.ipynb\" target=\"_parent\"><img src=\"https://colab.research.google.com/assets/colab-badge.svg\" alt=\"Open In Colab\"/></a>"
      ]
    },
    {
      "cell_type": "code",
      "metadata": {
        "id": "H9pDKosm7Upx"
      },
      "source": [
        "## Intro Python 3\n",
        "### Variables\n",
        "tipo dinamico \n"
      ],
      "execution_count": null,
      "outputs": []
    },
    {
      "cell_type": "code",
      "metadata": {
        "id": "vY_d9V1y8Cp4",
        "outputId": "766c40c2-19c0-43e8-e0cd-47ad368f127f",
        "colab": {
          "base_uri": "https://localhost:8080/",
          "height": 134
        }
      },
      "source": [
        "escuela = \"Fes Aragon\"\n",
        "print (escuela)\n",
        "print (\"-------------------------\")\n",
        "edad= 13\n",
        "estatura = 1.67\n",
        "fumador = True\n",
        "nombre = \"Alberto\"\n",
        "nombre_completo = \" Alberto Sanchez Ortega\"\n",
        "frase = \"\"\" \n",
        "Esta es una frase\n",
        "de multiuples lineas \n",
        "y tambien es un tipo de dato \n",
        "\"\"\"\n",
        "\n",
        "print (frase)\n",
        "\n"
      ],
      "execution_count": 11,
      "outputs": [
        {
          "output_type": "stream",
          "text": [
            "Fes Aragon\n",
            "-------------------------\n",
            " \n",
            "Esta es una frase\n",
            "de multiuples lineas \n",
            "y tambien es un tipo de dato \n",
            "\n"
          ],
          "name": "stdout"
        }
      ]
    },
    {
      "cell_type": "code",
      "metadata": {
        "id": "n87EywSA-Dy7",
        "outputId": "dded96e7-3e22-4f20-8567-d207ab5009e9",
        "colab": {
          "base_uri": "https://localhost:8080/",
          "height": 34
        }
      },
      "source": [
        "#la coma da un espacio entre el texto \n",
        "print (edad, nombre)"
      ],
      "execution_count": 9,
      "outputs": [
        {
          "output_type": "stream",
          "text": [
            "13 Alberto\n"
          ],
          "name": "stdout"
        }
      ]
    },
    {
      "cell_type": "markdown",
      "metadata": {
        "id": "w2a8njCe-aBD"
      },
      "source": [
        "##Print \n",
        "con comas , \n",
        "con signos mas  + \n",
        "con formast () \n",
        "con el operador f \"\""
      ]
    },
    {
      "cell_type": "code",
      "metadata": {
        "id": "7DpOGFDf_EEK",
        "outputId": "8bb63610-41bf-48bc-c137-0978538a3db7",
        "colab": {
          "base_uri": "https://localhost:8080/",
          "height": 50
        }
      },
      "source": [
        "print (nombre +  str (edad))\n",
        "print (nombre+nombre_completo)"
      ],
      "execution_count": 12,
      "outputs": [
        {
          "output_type": "stream",
          "text": [
            "Alberto13\n",
            "Alberto Alberto Sanchez Ortega\n"
          ],
          "name": "stdout"
        }
      ]
    },
    {
      "cell_type": "code",
      "metadata": {
        "id": "mni2WGgtAsId",
        "outputId": "ce9aa16e-06a0-4a55-9b14-8b335d37e47b",
        "colab": {
          "base_uri": "https://localhost:8080/",
          "height": 67
        }
      },
      "source": [
        "#con formato ---> Su nombres es Jose y suedad es de 13 anios.\n",
        "print(\"Su nombre es\" , nombre , \"y su edad es de\" ,edad, \"anios\")\n",
        "print ( \"Su nombre es {0} y su edad es de {1} anios \". format(nombre,edad))\n",
        "print ( \"Su nombre es {1} y su edad es de {0} anios \". format(nombre,edad))\n"
      ],
      "execution_count": 16,
      "outputs": [
        {
          "output_type": "stream",
          "text": [
            "Su nombre es Alberto y su edad es de 13 anios\n",
            "Su nombre es Alberto y su edad es de 13 anios \n",
            "Su nombre es 13 y su edad es de Alberto anios \n"
          ],
          "name": "stdout"
        }
      ]
    },
    {
      "cell_type": "code",
      "metadata": {
        "id": "OpsOgzQlBvsv",
        "outputId": "867f62f7-73fd-493f-9293-d69376d2bd53",
        "colab": {
          "base_uri": "https://localhost:8080/",
          "height": 34
        }
      },
      "source": [
        "# Con formato con el operador f \"\"\n",
        "print (f\"Su nombre es {nombre} y su edad es de {edad} anios\")"
      ],
      "execution_count": 17,
      "outputs": [
        {
          "output_type": "stream",
          "text": [
            "\n"
          ],
          "name": "stdout"
        }
      ]
    },
    {
      "cell_type": "markdown",
      "metadata": {
        "id": "Gx_viFFKCozH"
      },
      "source": [
        "## Caracteres de escape \n",
        "\\n  salto de linea \n",
        "\\t  tabulador\n",
        "\\a  beep\n",
        "\\\\\" imprimir comilla doble \n",
        "\\' imprimir comilla simple "
      ]
    },
    {
      "cell_type": "code",
      "metadata": {
        "id": "K-x590_vDXfy",
        "outputId": "d736ab6e-8bbc-4afb-b3b5-381a2b061a55",
        "colab": {
          "base_uri": "https://localhost:8080/",
          "height": 50
        }
      },
      "source": [
        "\"\"\" \n",
        "Esto es \n",
        "un comentario \n",
        "de multiple \n",
        "linea \n",
        "tantan \n",
        "\"\"\"\n",
        "print (f\"\\t mi nombre es \\n\\t\\t{nombre}\")"
      ],
      "execution_count": 18,
      "outputs": [
        {
          "output_type": "stream",
          "text": [
            "\t mi nombre es \n",
            "\t\tAlberto\n"
          ],
          "name": "stdout"
        }
      ]
    },
    {
      "cell_type": "markdown",
      "metadata": {
        "id": "2eNemsYoD80b"
      },
      "source": [
        "#Ayuda de tipos de datos en python \n",
        "dir ()\n",
        "help ()"
      ]
    },
    {
      "cell_type": "code",
      "metadata": {
        "id": "NrC6f03lEO6b"
      },
      "source": [
        "#str, int , floar , bool ..... list , dict , set \n",
        "\n",
        "help (str)"
      ],
      "execution_count": null,
      "outputs": []
    },
    {
      "cell_type": "code",
      "metadata": {
        "id": "YPNpf8nxFTS7",
        "outputId": "4c95862d-17fc-44d5-aa23-b93df8d71e39",
        "colab": {
          "base_uri": "https://localhost:8080/",
          "height": 50
        }
      },
      "source": [
        "print (nombre_completo.capitalize() )\n",
        "print (nombre_completo.upper()  , end =\"-----------\")\n",
        "print (nombre_completo.title() )\n"
      ],
      "execution_count": 28,
      "outputs": [
        {
          "output_type": "stream",
          "text": [
            " alberto sanchez ortega\n",
            " ALBERTO SANCHEZ ORTEGA----------- Alberto Sanchez Ortega\n"
          ],
          "name": "stdout"
        }
      ]
    },
    {
      "cell_type": "code",
      "metadata": {
        "id": "r4xkKQW2GJty",
        "outputId": "2d8b27d8-4df6-4454-c2f2-f702ee65dc87",
        "colab": {
          "base_uri": "https://localhost:8080/",
          "height": 218
        }
      },
      "source": [
        "help(print)"
      ],
      "execution_count": 25,
      "outputs": [
        {
          "output_type": "stream",
          "text": [
            "Help on built-in function print in module builtins:\n",
            "\n",
            "print(...)\n",
            "    print(value, ..., sep=' ', end='\\n', file=sys.stdout, flush=False)\n",
            "    \n",
            "    Prints the values to a stream, or to sys.stdout by default.\n",
            "    Optional keyword arguments:\n",
            "    file:  a file-like object (stream); defaults to the current sys.stdout.\n",
            "    sep:   string inserted between values, default a space.\n",
            "    end:   string appended after the last value, default a newline.\n",
            "    flush: whether to forcibly flush the stream.\n",
            "\n"
          ],
          "name": "stdout"
        }
      ]
    },
    {
      "cell_type": "markdown",
      "metadata": {
        "id": "mtqQOB78GrPp"
      },
      "source": [
        "# Clase String \n",
        " es manejada como un arreglo ( c o java ) o lista (python)\n",
        " \n",
        "  telefono = \"Hawei mate 30 pro\"\n",
        "\n",
        "  print (telefono[0])"
      ]
    },
    {
      "cell_type": "code",
      "metadata": {
        "id": "YAcop-txHGxN",
        "outputId": "5dd43e42-e070-43ab-bb0b-2ecde0e17e08",
        "colab": {
          "base_uri": "https://localhost:8080/",
          "height": 34
        }
      },
      "source": [
        "telefono = \"Huawei mate 30 pro\"\n",
        "print (telefono[5])"
      ],
      "execution_count": 32,
      "outputs": [
        {
          "output_type": "stream",
          "text": [
            "i\n"
          ],
          "name": "stdout"
        }
      ]
    },
    {
      "cell_type": "markdown",
      "metadata": {
        "id": "O5PIrOxDIST-"
      },
      "source": [
        "# Slicing (rebanando)\n",
        "[ini:stop:incremento]"
      ]
    },
    {
      "cell_type": "code",
      "metadata": {
        "id": "aiDZ-m_gIbkH",
        "outputId": "0b8ab29f-9177-4535-93e0-051d5fd64ae9",
        "colab": {
          "base_uri": "https://localhost:8080/",
          "height": 101
        }
      },
      "source": [
        "print (telefono [7:11:1])\n",
        "# el inicio y el cinremento son opcionales lo que mas importa es el stop\n",
        "print (telefono[:11:])\n",
        "# el valor po defecto de stop es len (str)\n",
        "print (telefono[::])\n",
        "# incremento negativo \n",
        "print (telefono[::-1])\n",
        "#slacing negativo \n",
        "ini = -3\n",
        "inc=1\n",
        "print (telefono[ini::inc])\n",
        "\n"
      ],
      "execution_count": 42,
      "outputs": [
        {
          "output_type": "stream",
          "text": [
            "mate\n",
            "Huawei mate\n",
            "Huawei mate 30 pro\n",
            "orp 03 etam iewauH\n",
            "pro\n"
          ],
          "name": "stdout"
        }
      ]
    },
    {
      "cell_type": "markdown",
      "metadata": {
        "id": "HKrYlZ9-NOYo"
      },
      "source": [
        "#Funciuones de string (str)\n",
        "\n",
        "Existen metodos muy utiles en esta clase."
      ]
    },
    {
      "cell_type": "code",
      "metadata": {
        "id": "RNFLoerSNWyA",
        "outputId": "1f0465fb-e49d-49b5-b646-bcedcf09063d",
        "colab": {
          "base_uri": "https://localhost:8080/",
          "height": 202
        }
      },
      "source": [
        "facultad = \"    facultad de estudios superiorers aragon      \"\n",
        "tamanio = len (facultad)\n",
        "print (facultad.count(\"s\"))# cuenta el numero de elementos que tu le digas en la cadena \n",
        "print (facultad.find(\"s\"))#uencuentra el inidice de la primer acoincidencia \n",
        "print (facultad.strip())#quita los espacios en blanco y saltos de linea \n",
        "print (len (facultad.strip()))\n",
        "print (facultad.split(\"u\"))\n",
        "print (f\"tamanio de la cadena es {tamanio} caraceres\")\n",
        "print (facultad.strip().split(\" \"))\n",
        "\n",
        "\n",
        "print (\"______________________________________\")\n",
        "\n",
        "#copiar cadenas\n",
        "otra_cadena = facultad \n",
        "print (otra_cadena)\n",
        "otra_cadena= \"FES ARAGON \"\n",
        "print (facultad)\n",
        "\n",
        "print(\"---------------------------------------\")\n",
        "#copiar listas\n",
        "\n",
        "colores = [\"azul\" , \"verde\"]\n",
        "otra = colores.copy()\n",
        "print (colores)\n",
        "print (otra)\n"
      ],
      "execution_count": 60,
      "outputs": [
        {
          "output_type": "stream",
          "text": [
            "4\n",
            "17\n",
            "facultad de estudios superiorers aragon\n",
            "39\n",
            "['    fac', 'ltad de est', 'dios s', 'periorers aragon      ']\n",
            "tamanio de la cadena es 49 caraceres\n",
            "['facultad', 'de', 'estudios', 'superiorers', 'aragon']\n",
            "______________________________________\n",
            "    facultad de estudios superiorers aragon      \n",
            "    facultad de estudios superiorers aragon      \n",
            "---------------------------------------\n"
          ],
          "name": "stdout"
        }
      ]
    }
  ]
}