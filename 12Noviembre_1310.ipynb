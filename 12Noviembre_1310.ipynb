{
  "nbformat": 4,
  "nbformat_minor": 0,
  "metadata": {
    "colab": {
      "name": "12Noviembre_1310.ipynb",
      "provenance": [],
      "authorship_tag": "ABX9TyONsywBaByDYWZaweTwAbIb",
      "include_colab_link": true
    },
    "kernelspec": {
      "name": "python3",
      "display_name": "Python 3"
    }
  },
  "cells": [
    {
      "cell_type": "markdown",
      "metadata": {
        "id": "view-in-github",
        "colab_type": "text"
      },
      "source": [
        "<a href=\"https://colab.research.google.com/github/SebastianZR/edd_1310_2021/blob/master/12Noviembre_1310.ipynb\" target=\"_parent\"><img src=\"https://colab.research.google.com/assets/colab-badge.svg\" alt=\"Open In Colab\"/></a>"
      ]
    },
    {
      "cell_type": "code",
      "metadata": {
        "id": "ONY243rbcZ7h"
      },
      "source": [
        "class Nodo : \n",
        "    def __init__ (self,dato):\n",
        "        self.dato= dato\n",
        "        self.siguiente = None\n",
        "\n",
        "#Ejemplo 1\n",
        "a = Nodo(12)\n",
        "print (a.dato)\n",
        "print (a.siguiente)\n",
        "\n",
        "#Empieza a agregarse mas elementos \n",
        "\n",
        "#Ejemplo 2\n",
        "a.siguiente = Nodo (20)\n",
        "\n",
        "#Ejemplo 3\n",
        "a.siguiente.siguiente = Nodo (30)\n",
        "\n",
        "#Ejemplo 4 \n",
        "a.siguiente.siguiente.siguiente = Nodo (40)\n",
        "\n",
        "#Eejmplo 5 \n",
        "\n",
        "a.siguiente.siguiente.siguiente.siguiente = Nodo (50)\n",
        "\n",
        "#Ejemplo 6 Eliminar nodo 30 \n",
        "a.siguiente.siguiente = a.siguiente.siguiente.siguiente\n",
        "\n",
        "#Ejempo 7 \n",
        "\n",
        "a.get_siguiente().get_siguiente().get_siguiente().set_dato(46)\n",
        "a.show()\n",
        "\n",
        "#Ejemplo 8\n",
        "a.get_siguiente().set_dato(25)\n",
        "a.show()\n",
        "\n",
        "a.get_siguiente().get_siguiente().get_siguiente().set_siguiente(None)\n",
        "a.show()\n",
        "\n"
      ],
      "execution_count": null,
      "outputs": []
    }
  ]
}