{
  "nbformat": 4,
  "nbformat_minor": 0,
  "metadata": {
    "colab": {
      "name": "08Octubre_1310.ipynb",
      "provenance": [],
      "authorship_tag": "ABX9TyN/wxT9EvXBf/gEbuzHju6+",
      "include_colab_link": true
    },
    "kernelspec": {
      "name": "python3",
      "display_name": "Python 3"
    }
  },
  "cells": [
    {
      "cell_type": "markdown",
      "metadata": {
        "id": "view-in-github",
        "colab_type": "text"
      },
      "source": [
        "<a href=\"https://colab.research.google.com/github/SebastianZR/edd_1310_2021/blob/master/08Octubre_1310.ipynb\" target=\"_parent\"><img src=\"https://colab.research.google.com/assets/colab-badge.svg\" alt=\"Open In Colab\"/></a>"
      ]
    },
    {
      "cell_type": "code",
      "metadata": {
        "id": "TgRTNhGq_Faq",
        "outputId": "7e8d60eb-6991-46fe-ee35-24db14ced5a3",
        "colab": {
          "base_uri": "https://localhost:8080/",
          "height": 84
        }
      },
      "source": [
        "monitores =[[\"Samsung\",\"17.3 \\\"\",1024],[\"BenQ\",\"40\\\"\",2048]]\n",
        "procesadores = [[\"Intel\",\"i7\",3.4],[\"AMD\",\"razzer\",3.3],[\"Intel\",\"i3\",3.1]]\n",
        "memorias = [[\"Kingston\", \"8GB\",\"DDR4\"],[\"Kingston\", \"16GB\",\"DDR3\"],[\"ADATA\", \"32GB\",\"DDR4\"]]\n",
        "\n",
        "componentes = [monitores,procesadores,memorias]\n",
        "\n",
        "print (componentes[2][1][1])\n",
        "print (int(componentes[0][1][2])*2)\n",
        "print (componentes[1][1][1][1:4:1])\n",
        "print (componentes[2][2][0].lower())\n"
      ],
      "execution_count": 14,
      "outputs": [
        {
          "output_type": "stream",
          "text": [
            "16GB\n",
            "4096\n",
            "azz\n",
            "adata\n"
          ],
          "name": "stdout"
        }
      ]
    },
    {
      "cell_type": "code",
      "metadata": {
        "id": "_GOwybjuH2I2"
      },
      "source": [
        "#Copiar Listas \n",
        "#Extender listas \n",
        "\n",
        "frutas =[\"manzana\" , \"pera\"]\n",
        "otras_frutas = [\"aguacate\" , \"sandia\"]\n",
        "\n",
        "#frutas.append (otras_frutas)\n",
        "\n",
        "print (frutas)\n",
        "\n",
        "#+sobre otras litas \n",
        "\n",
        "frutas = frutas + otras_frutas\n",
        "print (frutas)\n",
        "\n",
        "frutas.extend(otras_frutas)\n",
        "print (frutas)\n",
        "\n",
        "\n",
        "#copiar\n",
        "\n",
        "colores = [\"azul\",\"rojo\",\"verde\", \"violeta\"]\n",
        "otros_colores = colores\n",
        "otros_colores.append (\"rosa\")\n",
        "print (colores)\n",
        "print (otros_colores)\n",
        "\n",
        "una_mas = colores.copy()\n",
        "print (una_mas)\n",
        "una_mas.append(\"gris\")\n",
        "print (una_mas)\n",
        "print (colores)\n",
        "\n"
      ],
      "execution_count": null,
      "outputs": []
    },
    {
      "cell_type": "code",
      "metadata": {
        "id": "9dRFDG4TQNIa",
        "outputId": "9a0ab8ca-4944-4a21-ed81-bbc460c3bef2",
        "colab": {
          "base_uri": "https://localhost:8080/",
          "height": 34
        }
      },
      "source": [
        "#unpaking de listas \n",
        "alumno = [\"Jesus\",\"Perez\",\"Herrera\",22,\"ICO\",10.0]\n",
        "\n",
        "#nombre = alumno[0]\n",
        "#paterno = alumno[1]\n",
        "#etc\n",
        "\n",
        "nombre,paterno,materno,edad,carrera,promedio= alumno\n",
        "\n",
        "print(f\"Alumno : {nombre}  Carrera : {carrera}  Promedio: {promedio}\")"
      ],
      "execution_count": 29,
      "outputs": [
        {
          "output_type": "stream",
          "text": [
            "Alumno : Jesus  Carrera : ICO  Promedio: 10.0\n"
          ],
          "name": "stdout"
        }
      ]
    },
    {
      "cell_type": "markdown",
      "metadata": {
        "id": "CcdPtWvRR4ws"
      },
      "source": [
        "# Tuplas\n",
        "- Se declaran con parentesis () \n",
        "- Selector []\n",
        "- No son mutables ( No se pueden modificar )\n"
      ]
    },
    {
      "cell_type": "code",
      "metadata": {
        "id": "i7MLm2ikSMt8",
        "outputId": "631630dc-24b3-4786-e81a-cb049134bf5e",
        "colab": {
          "base_uri": "https://localhost:8080/",
          "height": 67
        }
      },
      "source": [
        "precios = (99.9 , 49.9 , 12.45 , 23.3 , 33.44 , 55.66)\n",
        "print (precios[1])\n",
        "print (precios)\n",
        "print (precios [2:4])"
      ],
      "execution_count": 31,
      "outputs": [
        {
          "output_type": "stream",
          "text": [
            "49.9\n",
            "(99.9, 49.9, 12.45, 23.3, 33.44, 55.66)\n",
            "(12.45, 23.3)\n"
          ],
          "name": "stdout"
        }
      ]
    },
    {
      "cell_type": "markdown",
      "metadata": {
        "id": "X5DNRP5fVu8w"
      },
      "source": [
        "#Diccionarios \n",
        "- Es mutable \n",
        "- Se usan llaves {}\n",
        "- Conjunto de pares llave:  valor \n",
        "- Equivalente a objetos JSON en JavaScript\n",
        "- selectro [str]"
      ]
    },
    {
      "cell_type": "code",
      "metadata": {
        "id": "-HfrhgvQV6ef",
        "outputId": "5e54d155-e6ef-402c-97d7-92b15b72e09b",
        "colab": {
          "base_uri": "https://localhost:8080/",
          "height": 104
        }
      },
      "source": [
        "alumno = { \n",
        "          \"num_cta\" : 303030303 ,\n",
        "          \"carrera\" : \"ICO\",\n",
        "          \"promedio\" : 9.8,\n",
        "          \"materias\" :[\"EDD\",\"CyP\",\"Calidad\",\"Emprendimiento\"],\n",
        "          \"direccion\" : { \n",
        "                            \"calle\":\"rancho seco\",\n",
        "                            \"numero\" : 23 ,\n",
        "                            \"delegacion\" : \"Neza\",\n",
        "                            \"estado\" : {\n",
        "                                        \"id\" : 15 ,\n",
        "                                        \"nombre\" : \"Estado de Máxico\" ,\n",
        "                                        \"nombre_corto\" : \"EdoMex\"\n",
        "                                        } ,\n",
        "                            \"CP\":57170\n",
        "\n",
        "                        } \n",
        "          }\n",
        "\n",
        "print (alumno)\n",
        "print (alumno ['promedio'])\n",
        "print (alumno ['materias'])\n",
        "print (alumno ['direccion']['estado']['nombre_corto'])"
      ],
      "execution_count": 36,
      "outputs": [
        {
          "output_type": "stream",
          "text": [
            "{'num_cta': 303030303, 'carrera': 'ICO', 'promedio': 9.8, 'materias': ['EDD', 'CyP', 'Calidad', 'Emprendimiento'], 'direccion': {'calle': 'rancho seco', 'numero': 23, 'delegacion': 'Neza', 'estado': {'id': 15, 'nombre': 'Estado de Máxico', 'nombre_corto': 'EdoMex'}, 'CP': 57170}}\n",
            "9.8\n",
            "['EDD', 'CyP', 'Calidad', 'Emprendimiento']\n",
            "EdoMex\n"
          ],
          "name": "stdout"
        }
      ]
    }
  ]
}