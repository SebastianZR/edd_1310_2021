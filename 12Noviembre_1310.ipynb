{
  "nbformat": 4,
  "nbformat_minor": 0,
  "metadata": {
    "colab": {
      "name": "12Noviembre_1310.ipynb",
      "provenance": [],
      "authorship_tag": "ABX9TyP3ZeXPwhemQ0XSobdQSLbM",
      "include_colab_link": true
    },
    "kernelspec": {
      "name": "python3",
      "display_name": "Python 3"
    }
  },
  "cells": [
    {
      "cell_type": "markdown",
      "metadata": {
        "id": "view-in-github",
        "colab_type": "text"
      },
      "source": [
        "<a href=\"https://colab.research.google.com/github/SebastianZR/edd_1310_2021/blob/master/12Noviembre_1310.ipynb\" target=\"_parent\"><img src=\"https://colab.research.google.com/assets/colab-badge.svg\" alt=\"Open In Colab\"/></a>"
      ]
    },
    {
      "cell_type": "code",
      "metadata": {
        "id": "ONY243rbcZ7h"
      },
      "source": [
        "class Nodo:\n",
        "    def __init__( self , dato ):\n",
        "        self.dato = dato\n",
        "        self.siguiente = None\n",
        "\n",
        "\n",
        "# ejemplo 1\n",
        "a = Nodo( 12 )\n",
        "print( a.dato )\n",
        "print( a.siguiente )\n",
        "\n",
        "# ejemplo 2\n",
        "a.siguiente = Nodo( 20 )\n",
        "\n",
        "#ejemplo 3\n",
        "\n",
        "a.siguiente.siguiente=Nodo(30)\n",
        "\n",
        "#ejemplo 4\n",
        "a.siguiente.siguiente.siguiente=Nodo(40)\n",
        "\n",
        "#ejemplo 5\n",
        "a.siguiente.siguiente.siguiente.siguiente=Nodo(50)\n",
        "\n",
        "#Eliminando nodo 30 ejemplo 6\n",
        "\n",
        "a.siguiente.siguiente=a.siguiente.siguiente.siguiente\n",
        "\n",
        "# ejemplo 7\n",
        "a.siguiente.siguiente\n",
        ".dato = 45\n",
        "\n",
        "#EJEMPLO 8 insertar dato\n",
        "\n",
        "tmp= a.siguiente.siguiente.siguiente#Respaldo mi nodo 50, para que no se pierda\n",
        "a.siguiente.siguiente.siguiente=Nodo(48) #creo mi nuevo nodo\n",
        "a.siguiente.siguiente.siguiente.siguiente= tmp #vuelvo agregar mi nodo 50\n",
        "\n",
        "curr_node = a\n",
        "print(curr_node.dato , \"-->\" , end=\"\")\n",
        "while( curr_node.siguiente != None ):\n",
        "    curr_node = curr_node.siguiente\n",
        "    print(curr_node.dato, \"-->\" , end=\"\")\n",
        "print(\"\")\n",
        "\n"
      ],
      "execution_count": null,
      "outputs": []
    }
  ]
}