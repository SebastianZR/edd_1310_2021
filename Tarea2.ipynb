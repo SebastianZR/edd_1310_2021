{
  "nbformat": 4,
  "nbformat_minor": 0,
  "metadata": {
    "colab": {
      "name": "Tarea2.ipynb",
      "provenance": [],
      "collapsed_sections": [],
      "authorship_tag": "ABX9TyP6iaYUQ/zFiafkUeH1w7bo",
      "include_colab_link": true
    },
    "kernelspec": {
      "name": "python3",
      "display_name": "Python 3"
    }
  },
  "cells": [
    {
      "cell_type": "markdown",
      "metadata": {
        "id": "view-in-github",
        "colab_type": "text"
      },
      "source": [
        "<a href=\"https://colab.research.google.com/github/SebastianZR/edd_1310_2021/blob/master/Tarea2.ipynb\" target=\"_parent\"><img src=\"https://colab.research.google.com/assets/colab-badge.svg\" alt=\"Open In Colab\"/></a>"
      ]
    },
    {
      "cell_type": "code",
      "metadata": {
        "id": "OeUmFRSY8diN",
        "outputId": "b5c76573-ee2b-4ce9-8baf-4746e26edee7",
        "colab": {
          "base_uri": "https://localhost:8080/",
          "height": 370
        }
      },
      "source": [
        "f = open(\"Datos.txt\",\"r\")\n",
        "\n",
        "def sumalista(listaNumeros):\n",
        "    laSuma = 0\n",
        "    for i in listaNumeros:\n",
        "        laSuma = laSuma + i\n",
        "    return laSuma\n",
        "\n",
        "\n",
        "for linea in f.readlines():\n",
        "\n",
        "      line=linea.replace((\" \"),(\"\")).strip().split(',')\n",
        "      \n",
        "      if line == ['']:\n",
        "          None\n",
        "      else :\n",
        "          for j in range (len (line)):\n",
        "              line[j]=int(line[j].strip())\n",
        "          print (line)\n",
        "          sumaporrenglon = sum(line)\n",
        "          print (f\"La suma del renglon es :{sumaporrenglon}\")\n",
        "total = 0\n",
        "for x in line:\n",
        "    total = total + sumaporrenglon\n",
        "print (f\"LA SUMA TOTAL ES {total}\")\n",
        "\n",
        "f.close()\n",
        "\n",
        "\n",
        "\n",
        "        \n",
        "\n",
        "          \n"
      ],
      "execution_count": 193,
      "outputs": [
        {
          "output_type": "stream",
          "text": [
            "[1, 2, 1, 14, 29, 45, 5, 58, 56, 10, 29, 14, 88, 17, 4, 3, 1, 7, 12, 10]\n",
            "La suma del renglon es :406\n",
            "[2, 23, 5, 8, 44, 2, 2, 13, 5, 9, 10, 16, 98, 76, 47, 1, 1, 3, 2]\n",
            "La suma del renglon es :367\n",
            "[3, 87, 15, 11, 9, 7, 90, 97, 21, 3, 4, 1, 8, 88, 74, 32, 34, 43, 17, 77, 93]\n",
            "La suma del renglon es :814\n",
            "[4, 46, 8, 1, 6, 2, 10, 37, 84, 4, 5, 9, 10, 2, 6, 31, 1, 1, 8, 4, 20, 33, 23, 18, 45]\n",
            "La suma del renglon es :418\n",
            "[55, 3, 2, 29, 58, 83, 9, 17, 1, 43, 20, 93, 31, 46, 43, 77, 8, 44, 45, 17, 62]\n",
            "La suma del renglon es :786\n",
            "[6, 74, 13, 44, 18, 45, 11, 93, 2, 1, 1, 1, 25, 1, 42, 18, 22, 44, 52]\n",
            "La suma del renglon es :513\n",
            "[7, 88, 93, 6, 54, 2, 8, 1, 41, 86, 79, 33, 48, 9, 32, 63, 18, 7, 33, 2, 1, 16, 11, 7]\n",
            "La suma del renglon es :745\n",
            "[8, 0, 22, 17, 30, 6, 2, 12, 47, 37, 34, 85, 47, 33, 2, 6, 8, 4, 5, 29, 30, 42, 77, 2]\n",
            "La suma del renglon es :585\n",
            "[9, 2, 3, 4, 1, 1, 3, 6, 7, 7, 8, 9, 5, 1, 3, 4, 9, 10, 12, 3, 1, 5, 6, 22, 11, 0, 2]\n",
            "La suma del renglon es :154\n",
            "[1, 0, 2, 55, 9, 3, 55, 23, 1, 6, 9, 4, 5, 3, 3, 2, 1, 3, 8, 1, 6, 10, 0, 1, 5, 1, 3]\n",
            "La suma del renglon es :220\n",
            "LA SUMA TOTAL ES 5940\n"
          ],
          "name": "stdout"
        }
      ]
    }
  ]
}