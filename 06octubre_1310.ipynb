{
  "nbformat": 4,
  "nbformat_minor": 0,
  "metadata": {
    "colab": {
      "name": "06octubre_1310.ipynb",
      "provenance": [],
      "authorship_tag": "ABX9TyOoaf3BB3oo0V/nhFId66iZ",
      "include_colab_link": true
    },
    "kernelspec": {
      "name": "python3",
      "display_name": "Python 3"
    }
  },
  "cells": [
    {
      "cell_type": "markdown",
      "metadata": {
        "id": "view-in-github",
        "colab_type": "text"
      },
      "source": [
        "<a href=\"https://colab.research.google.com/github/SebastianZR/edd_1310_2021/blob/master/06octubre_1310.ipynb\" target=\"_parent\"><img src=\"https://colab.research.google.com/assets/colab-badge.svg\" alt=\"Open In Colab\"/></a>"
      ]
    },
    {
      "cell_type": "code",
      "metadata": {
        "id": "37H0aI0zqnL5"
      },
      "source": [
        "#String continuacion\n",
        "\n",
        "numeros_txt = \"  1, 2,  3,    4, 5   , 35   , 15   ,12 \"\n",
        "print (numeros_txt)\n",
        "numeros_txt =numeros_txt.lstrip().split(',')\n",
        "print (numeros_txt)\n",
        "\n",
        "for j in range (len (numeros_txt)):\n",
        "    numeros_txt [j]= int(numeros_txt[j].strip ())\n",
        "\n",
        "print(numeros_txt)\n",
        "\n",
        "#   Funcion range\n",
        "# range (inicio, stop, final )\n",
        "print (range (0,10,1))\n",
        "rango = range (10)\n",
        "\n",
        "for x in rango :\n",
        "    print (x)"
      ],
      "execution_count": null,
      "outputs": []
    },
    {
      "cell_type": "markdown",
      "metadata": {
        "id": "LXPhStEwxFkS"
      },
      "source": [
        "#Listas \n",
        "\n",
        "- mutables\n",
        "\n",
        "- se declaran con [  ]\n",
        "\n",
        "- selector [ int ]\n",
        "\n",
        "- Pueden ser de cualquier tipo y mezclado .\n",
        "#Tuplas\n",
        "\n",
        "- NO mutables \n",
        "\n",
        "- Se declaran con ( ) \n",
        "\n",
        "- selectos [ int ]\n",
        "\n",
        "#Diciionarios \n",
        "\n",
        "- son mutables \n",
        "\n",
        "- son conjunto de pares llave valor \n",
        "\n",
        "- Equivalentes a los objetos JSON de JavaScript\n",
        "\n",
        "#Conjuntos \n",
        "\n",
        "- Representacion de la toria de los conjutos "
      ]
    },
    {
      "cell_type": "code",
      "metadata": {
        "id": "6J3ezgW1yNQG"
      },
      "source": [
        "# LISTAS ( Equivalentes a arreglos en otros lenguajes de programacion )\n",
        "\n",
        "frutas = ['Pera','Manzana', 'Fresa', 'Kiwi', 'Naranja']\n",
        "print (frutas)\n",
        "\n",
        "cosas = [\"Cuaderno\", 2 , 3.1416 , True , False , [\"ROJO\" , \"AZUL\"]]\n",
        "print (cosas)\n",
        "\n",
        "frutas[2]= \"Fresa\"\n",
        "print(frutas)\n",
        "\n",
        "# Agregar un alista \n",
        "frutas.append (\"Aguacate\")#Inserta un objeto ala lista hasta el final de esta \n",
        "print(frutas)\n",
        "\n",
        "frutas.insert (2,\"Sandia\")#Inserta un objeto a alista siguiendo el formato (posicion de la lista , \"OBJETO \")\n",
        "print(frutas)\n",
        "\n",
        "#Concatenar listas \n",
        "fecha = [\"06\",\"10\",\"2020\"] # 06/10/2020\n",
        "print (fecha)\n",
        "fecha_str = \"/\".join(fecha)\n",
        "print (fecha_str)\n"
      ],
      "execution_count": null,
      "outputs": []
    },
    {
      "cell_type": "code",
      "metadata": {
        "id": "J0NsOk6I3S3z"
      },
      "source": [
        "\n",
        "#Eliminar Elementos\n",
        "cosas = [\"Cuaderno\", 2 , 3.1416 , True , False , [\"ROJO\" , \"AZUL\"]]\n",
        "print (cosas)\n",
        "cosas.append(\"Libro\")\n",
        "cosas.append(\"Lapiz\")\n",
        "print (cosas)\n",
        "\n",
        "algo = cosas.pop(2)\n",
        "print (cosas)\n",
        "print (algo)\n",
        "\n",
        "cosas.remove(2)\n",
        "print(cosas)\n",
        "\n",
        "#Vaciar una lista \n",
        "#cosas.clear ()\n",
        "#print(cosas, \"Lista limpia\")\n",
        "\n",
        "#Ordenar las listas\n",
        "print (frutas)\n",
        "frutas.sort()\n",
        "print (frutas)\n",
        "\n",
        "\n"
      ],
      "execution_count": null,
      "outputs": []
    },
    {
      "cell_type": "code",
      "metadata": {
        "id": "sHKx9Uyt7Dy2"
      },
      "source": [
        "#Slicing \n",
        "\n",
        "cosas = [\"Cuaderno\", 2 , 3.1416 , True , False , [\"ROJO\" , \"AZUL\"]]\n",
        "print (cosas[3:5:1])\n",
        "print (cosas)\n",
        "print (cosas [0][3:5:1])\n",
        "numeros = [0,1,2,3,4,5,6,7,8,9,10,11,12,13,14,15]\n",
        "print (numeros [8:13:1])\n",
        "\n",
        "#Sustituir Rebanadas  -2,-2 ----->[0,1,2,3,4,5,6,7,-2,-2,13,14,15]\n",
        "numeros [8:13:1] = [-2,-2]\n",
        "print (numeros)\n",
        "\n",
        "#Preguntar por existencia en una lista \n",
        "print (100 in numeros)"
      ],
      "execution_count": null,
      "outputs": []
    },
    {
      "cell_type": "markdown",
      "metadata": {
        "id": "TWhdaGZk-jdu"
      },
      "source": [
        "#Listas multi dimension\n",
        "\n",
        "Listas dentro de listas "
      ]
    },
    {
      "cell_type": "code",
      "metadata": {
        "id": "Lm6FFhgS-qga"
      },
      "source": [
        "computadoras = [\"HP\",\"Mac Book Pro 17\", \"Mate Book \", \"Lenovo Legion\"]\n",
        "OSS = [\"Windous 10\", \"Linux\", \"Android\", \"IOS\"]\n",
        "\n",
        "computo = [computadoras , OSS]\n",
        "\n",
        "print (computo[0])\n",
        "print (computo[1])\n",
        "print (computo[0][2][0:4:1])\n",
        "print (computo[0][3][5::-1])\n",
        "print (\"Linux\" in computo[1])\n",
        "\n",
        "dbms = [[\"Mysql\",\"Open Source\", False],[\"MS SQL Server\",\"De paga \", True ]]\n",
        "computo.append(dbms)\n",
        "print (computo)\n",
        "print (computo [2][1][1])"
      ],
      "execution_count": null,
      "outputs": []
    }
  ]
}