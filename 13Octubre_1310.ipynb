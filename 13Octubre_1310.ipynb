{
  "nbformat": 4,
  "nbformat_minor": 0,
  "metadata": {
    "colab": {
      "name": "13Octubre_1310.ipynb",
      "provenance": [],
      "authorship_tag": "ABX9TyOBAVlWTdkjO9SaQkUAPUp0",
      "include_colab_link": true
    },
    "kernelspec": {
      "name": "python3",
      "display_name": "Python 3"
    }
  },
  "cells": [
    {
      "cell_type": "markdown",
      "metadata": {
        "id": "view-in-github",
        "colab_type": "text"
      },
      "source": [
        "<a href=\"https://colab.research.google.com/github/SebastianZR/edd_1310_2021/blob/master/13Octubre_1310.ipynb\" target=\"_parent\"><img src=\"https://colab.research.google.com/assets/colab-badge.svg\" alt=\"Open In Colab\"/></a>"
      ]
    },
    {
      "cell_type": "code",
      "metadata": {
        "id": "cAjnvixk0VUC",
        "outputId": "7a4f286a-9e9f-416c-95f8-583b367c1c36",
        "colab": {
          "base_uri": "https://localhost:8080/",
          "height": 104
        }
      },
      "source": [
        "alumno = { \n",
        "          \"num_cta\" : 303030303 ,\n",
        "          \"carrera\" : \"ICO\",\n",
        "          \"promedio\" : 9.8,\n",
        "          \"materias\" :[\"EDD\",\"CyP\",\"Calidad\",\"Emprendimiento\"],\n",
        "          \"direccion\" : { \n",
        "                            \"calle\":\"rancho seco\",\n",
        "                            \"numero\" : 23 ,\n",
        "                            \"delegacion\" : \"Neza\",\n",
        "                            \"estado\" : {\n",
        "                                        \"id\" : 15 ,\n",
        "                                        \"nombre\" : \"Estado de Máxico\" ,\n",
        "                                        \"nombre_corto\" : \"EdoMex\"\n",
        "                                        } ,\n",
        "                            \"CP\":57170\n",
        "\n",
        "                        } \n",
        "          }\n",
        "print (alumno)\n",
        "alumno ['carrera']= \"Ingenieria en computacion\"\n",
        "print (alumno)\n",
        "alumno ['nombre_completo']={'primer':\"Juan\",\n",
        "                            'segundo':\"Pedro\",\n",
        "                            'materno':\"Perez\",\n",
        "                            'paterno':\"Gomez\"}\n",
        "alumno ['semestre']=3\n",
        "print (alumno)\n",
        "print(f\"{alumno['nombre_completo']['primer']} {alumno['nombre_completo']['segundo']}\")"
      ],
      "execution_count": 2,
      "outputs": [
        {
          "output_type": "stream",
          "text": [
            "{'num_cta': 303030303, 'carrera': 'ICO', 'promedio': 9.8, 'materias': ['EDD', 'CyP', 'Calidad', 'Emprendimiento'], 'direccion': {'calle': 'rancho seco', 'numero': 23, 'delegacion': 'Neza', 'estado': {'id': 15, 'nombre': 'Estado de Máxico', 'nombre_corto': 'EdoMex'}, 'CP': 57170}}\n",
            "{'num_cta': 303030303, 'carrera': 'Ingenieria en computacion', 'promedio': 9.8, 'materias': ['EDD', 'CyP', 'Calidad', 'Emprendimiento'], 'direccion': {'calle': 'rancho seco', 'numero': 23, 'delegacion': 'Neza', 'estado': {'id': 15, 'nombre': 'Estado de Máxico', 'nombre_corto': 'EdoMex'}, 'CP': 57170}}\n",
            "{'num_cta': 303030303, 'carrera': 'Ingenieria en computacion', 'promedio': 9.8, 'materias': ['EDD', 'CyP', 'Calidad', 'Emprendimiento'], 'direccion': {'calle': 'rancho seco', 'numero': 23, 'delegacion': 'Neza', 'estado': {'id': 15, 'nombre': 'Estado de Máxico', 'nombre_corto': 'EdoMex'}, 'CP': 57170}, 'nombre_completo': {'primer': 'Juan', 'segundo': 'Pedro', 'materno': 'Perez', 'paterno': 'Gomez'}, 'semestre': 3}\n",
            "Juan Pedro\n"
          ],
          "name": "stdout"
        }
      ]
    },
    {
      "cell_type": "code",
      "metadata": {
        "id": "6FVGklIe0fU9",
        "outputId": "5d9a7ab1-1131-4b6f-c6ad-80b9b85407b4",
        "colab": {
          "base_uri": "https://localhost:8080/",
          "height": 423
        }
      },
      "source": [
        "#key , values y items ()\n",
        "llaves = alumno.keys()\n",
        "print (llaves)\n",
        "for llave in llaves:\n",
        "    print (llave.upper())\n",
        "valores = alumno.values()\n",
        "for val in valores:\n",
        "    print(val)\n",
        "pares = alumno.items()\n",
        "print (pares)\n",
        "for elem in pares:\n",
        "    print (f\"el campo {elem[0]} tiene valor {elem[1]}\")"
      ],
      "execution_count": 3,
      "outputs": [
        {
          "output_type": "stream",
          "text": [
            "dict_keys(['num_cta', 'carrera', 'promedio', 'materias', 'direccion', 'nombre_completo', 'semestre'])\n",
            "NUM_CTA\n",
            "CARRERA\n",
            "PROMEDIO\n",
            "MATERIAS\n",
            "DIRECCION\n",
            "NOMBRE_COMPLETO\n",
            "SEMESTRE\n",
            "303030303\n",
            "Ingenieria en computacion\n",
            "9.8\n",
            "['EDD', 'CyP', 'Calidad', 'Emprendimiento']\n",
            "{'calle': 'rancho seco', 'numero': 23, 'delegacion': 'Neza', 'estado': {'id': 15, 'nombre': 'Estado de Máxico', 'nombre_corto': 'EdoMex'}, 'CP': 57170}\n",
            "{'primer': 'Juan', 'segundo': 'Pedro', 'materno': 'Perez', 'paterno': 'Gomez'}\n",
            "3\n",
            "dict_items([('num_cta', 303030303), ('carrera', 'Ingenieria en computacion'), ('promedio', 9.8), ('materias', ['EDD', 'CyP', 'Calidad', 'Emprendimiento']), ('direccion', {'calle': 'rancho seco', 'numero': 23, 'delegacion': 'Neza', 'estado': {'id': 15, 'nombre': 'Estado de Máxico', 'nombre_corto': 'EdoMex'}, 'CP': 57170}), ('nombre_completo', {'primer': 'Juan', 'segundo': 'Pedro', 'materno': 'Perez', 'paterno': 'Gomez'}), ('semestre', 3)])\n",
            "el campo num_cta tiene valor 303030303\n",
            "el campo carrera tiene valor Ingenieria en computacion\n",
            "el campo promedio tiene valor 9.8\n",
            "el campo materias tiene valor ['EDD', 'CyP', 'Calidad', 'Emprendimiento']\n",
            "el campo direccion tiene valor {'calle': 'rancho seco', 'numero': 23, 'delegacion': 'Neza', 'estado': {'id': 15, 'nombre': 'Estado de Máxico', 'nombre_corto': 'EdoMex'}, 'CP': 57170}\n",
            "el campo nombre_completo tiene valor {'primer': 'Juan', 'segundo': 'Pedro', 'materno': 'Perez', 'paterno': 'Gomez'}\n",
            "el campo semestre tiene valor 3\n"
          ],
          "name": "stdout"
        }
      ]
    },
    {
      "cell_type": "code",
      "metadata": {
        "id": "MJ07Ho0G1GRj",
        "outputId": "8efb46d0-1009-4bb6-8764-3a7acbbe22d2",
        "colab": {
          "base_uri": "https://localhost:8080/",
          "height": 34
        }
      },
      "source": [
        "computadora = {\"procesador\":\"Intel i7\", \"ram\":\"Kingston 128GB\"}\n",
        "otros = {\"monitor\":\"LG 49\\\"\",\"hd\":\"Toshiba 1TB\"}\n",
        "computadora.update(otros)\n",
        "print (computadora)"
      ],
      "execution_count": 5,
      "outputs": [
        {
          "output_type": "stream",
          "text": [
            "{'procesador': 'Intel i7', 'ram': 'Kingston 128GB', 'monitor': 'LG 49\"', 'hd': 'Toshiba 1TB'}\n"
          ],
          "name": "stdout"
        }
      ]
    },
    {
      "cell_type": "markdown",
      "metadata": {
        "id": "Yb1DiC382w46"
      },
      "source": [
        "#Funciones\n",
        "- Son unidades de codigo reutilizable \n",
        "- Es un mecanismo de organizacion de codigo \n",
        "- Una funcion toma 0 a n parametros de entrada\n",
        "- tiene una salida (return) de cualquier tipo de dato\n",
        "- solo puedes hacer dos cosas :\n",
        "   - definirla\n",
        "   - llamarla \n",
        "\n",
        "- se define con la palabra 'def' "
      ]
    },
    {
      "cell_type": "code",
      "metadata": {
        "id": "weZDQR5t4HZU",
        "outputId": "52a16a0c-e0da-4728-ea0c-e3f7f0ecbfca",
        "colab": {
          "base_uri": "https://localhost:8080/",
          "height": 202
        }
      },
      "source": [
        "def sumar (x,y):\n",
        "    resultado = x + y\n",
        "    return resultado \n",
        "print (sumar (10,15))\n",
        "print (sumar (2,6))\n",
        "\n",
        "def saludar (nombre):\n",
        "    print (f\"Hola {nombre} , Como estas ?\")\n",
        "    return None\n",
        "#Procesaro None\n",
        "\n",
        "def multiplicar (valor,veces):\n",
        "    if valor !=None:\n",
        "        c=valor*veces\n",
        "    else :\n",
        "        c= \"operacion no valida\"\n",
        "    return c \n",
        "\n",
        "def operacion (a,b,c):\n",
        "    res = a+(b/c)\n",
        "    return res\n",
        "\n",
        "\n",
        "\n",
        "saludar(\"jesus\")\n",
        "c= sumar (3,7)\n",
        "print (c)\n",
        "print (saludar (\"Jesus\"))\n",
        "print (multiplicar (5,6))\n",
        "print (multiplicar (None,6))\n",
        "print (operacion(2,9,3))\n",
        "print (operacion (2,3,9))\n",
        "print (operacion(a=2,c=3,b=9))\n"
      ],
      "execution_count": 16,
      "outputs": [
        {
          "output_type": "stream",
          "text": [
            "25\n",
            "8\n",
            "Hola jesus , Como estas ?\n",
            "10\n",
            "Hola Jesus , Como estas ?\n",
            "None\n",
            "30\n",
            "operacion no valida\n",
            "5.0\n",
            "2.3333333333333335\n",
            "5.0\n"
          ],
          "name": "stdout"
        }
      ]
    },
    {
      "cell_type": "code",
      "metadata": {
        "id": "XjBaxY_A-hhf",
        "outputId": "9707f1e7-1155-4f6e-914c-d6c840a8d067",
        "colab": {
          "base_uri": "https://localhost:8080/",
          "height": 218
        }
      },
      "source": [
        "#Valores por defecto\n",
        "\n",
        "def comanda (primer,fuerte, postre=\"Galleta de alimanito\"):\n",
        "    print (f\"Entrada pidio : {primer} \")\n",
        "    print (f\"Plato fuerte : {fuerte}\")\n",
        "    print (f\"Postre : {postre}\")\n",
        "# Argumentos posicionales con tuplas *\n",
        "def comanda_2 (*opciones):\n",
        "    print (opciones)\n",
        "    print (f\"Entrada pidio : {opciones [0]} \")\n",
        "    print (f\"Plato fuerte : {opciones [1]}\")\n",
        "    print (f\"Postre : {opciones [2]}\")\n",
        "    print (\"Indicaciones Extra :\")\n",
        "    for ind in opciones [3::]:\n",
        "        print(f\"\\t {ind}\")\n",
        "\n",
        "\n",
        "\n",
        "\n",
        "comanda(\"Sopa Aguada\",\"Tortas de papa\",\"Gelatina de limon\")\n",
        "comanda (\"Sopa Aguada\", \"Tortas de papa \")\n",
        "comanda_2 (\"Sopa Aguada\",\"Tortas de papa\",\"Gelatina de limon\",\"Las tortas bien doradas,traer dos limones\",\"Agua con hielo \" )\n",
        "\n"
      ],
      "execution_count": 22,
      "outputs": [
        {
          "output_type": "stream",
          "text": [
            "Entrada pidio : Sopa Aguada \n",
            "Plato fuerte : Tortas de papa\n",
            "Postre : Gelatina de limon\n",
            "Entrada pidio : Sopa Aguada \n",
            "Plato fuerte : Tortas de papa \n",
            "Postre : Galleta de alimanito\n",
            "('Sopa Aguada', 'Tortas de papa', 'Gelatina de limon', 'Las tortas bien doradas,traer dos limones ')\n",
            "Entrada pidio : Sopa Aguada \n",
            "Plato fuerte : Tortas de papa\n",
            "Postre : Gelatina de limon\n",
            "Indicaciones Extra :\n",
            "\t Las tortas bien doradas,traer dos limones \n"
          ],
          "name": "stdout"
        }
      ]
    },
    {
      "cell_type": "code",
      "metadata": {
        "id": "M_x2Mm-2B6Ql",
        "outputId": "482e9618-d80f-485a-c2ff-97a59aafb5b9",
        "colab": {
          "base_uri": "https://localhost:8080/",
          "height": 118
        }
      },
      "source": [
        "# Agregamos posiciones con diccionarios **\n",
        "\n",
        "def comanda_3 (**opciones):\n",
        "    print (opciones)\n",
        "    for op in opciones.items():\n",
        "        print (f\"{op[0]}-> {op[1]}\")\n",
        "\n",
        "comanda_3 (primer = \"Sopa Aguada\",fuerte = \"Tortas de papa\",postre =\"Gelatina de limon\",extra1=\"Las tortas bien doradas,traer dos limones\",extra2=\"Agua con hielo \" )\n",
        "\n"
      ],
      "execution_count": 24,
      "outputs": [
        {
          "output_type": "stream",
          "text": [
            "{'primer': 'Sopa Aguada', 'fuerte': 'Tortas de papa', 'postre': 'Gelatina de limon', 'extra1': 'Las tortas bien doradas,traer dos limones', 'extra2': 'Agua con hielo '}\n",
            "primer-> Sopa Aguada\n",
            "fuerte-> Tortas de papa\n",
            "postre-> Gelatina de limon\n",
            "extra1-> Las tortas bien doradas,traer dos limones\n",
            "extra2-> Agua con hielo \n"
          ],
          "name": "stdout"
        }
      ]
    }
  ]
}