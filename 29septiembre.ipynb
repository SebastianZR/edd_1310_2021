{
  "nbformat": 4,
  "nbformat_minor": 0,
  "metadata": {
    "colab": {
      "name": "Untitled0.ipynb",
      "provenance": [],
      "collapsed_sections": [],
      "authorship_tag": "ABX9TyN2D+tXxIgPK9smZ/xuPWCn",
      "include_colab_link": true
    },
    "kernelspec": {
      "name": "python3",
      "display_name": "Python 3"
    }
  },
  "cells": [
    {
      "cell_type": "markdown",
      "metadata": {
        "id": "view-in-github",
        "colab_type": "text"
      },
      "source": [
        "<a href=\"https://colab.research.google.com/github/SebastianZR/edd_1310_2021/blob/master/29septiembre.ipynb\" target=\"_parent\"><img src=\"https://colab.research.google.com/assets/colab-badge.svg\" alt=\"Open In Colab\"/></a>"
      ]
    },
    {
      "cell_type": "code",
      "metadata": {
        "id": "dHzHe9xasrkF"
      },
      "source": [
        "edad = 10"
      ],
      "execution_count": 2,
      "outputs": []
    },
    {
      "cell_type": "code",
      "metadata": {
        "id": "5Ce6b80IvML2"
      },
      "source": [
        "print (edad)\n",
        "colores = ['rojo','azul','verde','morado','voleta']\n",
        "print (colores)\n",
        "print (colores [3][2:4])"
      ],
      "execution_count": null,
      "outputs": []
    },
    {
      "cell_type": "code",
      "metadata": {
        "id": "ljWVuslhxa6q"
      },
      "source": [
        "nombre = \"Alberto\"\n",
        "print(nombre[0])\n",
        "print (nombre[0:3:1])"
      ],
      "execution_count": null,
      "outputs": []
    },
    {
      "cell_type": "markdown",
      "metadata": {
        "id": "eRMP5VDGyMh5"
      },
      "source": [
        "# For en python 3 \n",
        "2 variantes :\n",
        "1.j in range (inicio,tope,incremento)\n",
        "2.in[iterador]"
      ]
    },
    {
      "cell_type": "code",
      "metadata": {
        "id": "53fGcQ2Gy6c2",
        "outputId": "a817c35a-e961-4ebe-c631-41ba62ab633b",
        "colab": {
          "base_uri": "https://localhost:8080/",
          "height": 101
        }
      },
      "source": [
        "for j in range (0,5,1):\n",
        "  print (colores[j])\n"
      ],
      "execution_count": 13,
      "outputs": [
        {
          "output_type": "stream",
          "text": [
            "rojo\n",
            "azul\n",
            "verde\n",
            "morado\n",
            "voleta\n"
          ],
          "name": "stdout"
        }
      ]
    },
    {
      "cell_type": "code",
      "metadata": {
        "id": "aaiIuZ0Uz1Jj",
        "outputId": "73abeb9b-3a8c-49b8-a6aa-c39810c092b9",
        "colab": {
          "base_uri": "https://localhost:8080/",
          "height": 101
        }
      },
      "source": [
        "for color in colores :\n",
        "  print (color)"
      ],
      "execution_count": 14,
      "outputs": [
        {
          "output_type": "stream",
          "text": [
            "rojo\n",
            "azul\n",
            "verde\n",
            "morado\n",
            "voleta\n"
          ],
          "name": "stdout"
        }
      ]
    },
    {
      "cell_type": "code",
      "metadata": {
        "id": "jfJZB6F-0h-3",
        "outputId": "4af3c52d-c33b-4925-ff3a-ee160f40ed43",
        "colab": {
          "base_uri": "https://localhost:8080/",
          "height": 134
        }
      },
      "source": [
        "for j in range (0,len(nombre),1):\n",
        "  print (nombre[j])"
      ],
      "execution_count": 15,
      "outputs": [
        {
          "output_type": "stream",
          "text": [
            "A\n",
            "l\n",
            "b\n",
            "e\n",
            "r\n",
            "t\n",
            "o\n"
          ],
          "name": "stdout"
        }
      ]
    },
    {
      "cell_type": "code",
      "metadata": {
        "id": "h9YX_z1309CW",
        "outputId": "25a2f49b-b53a-4d53-bbe5-73549d9a6bbc",
        "colab": {
          "base_uri": "https://localhost:8080/",
          "height": 134
        }
      },
      "source": [
        "for nom in nombre:\n",
        "  print ( nom)"
      ],
      "execution_count": 16,
      "outputs": [
        {
          "output_type": "stream",
          "text": [
            "A\n",
            "l\n",
            "b\n",
            "e\n",
            "r\n",
            "t\n",
            "o\n"
          ],
          "name": "stdout"
        }
      ]
    },
    {
      "cell_type": "markdown",
      "metadata": {
        "id": "mCIUnQEp1oY8"
      },
      "source": [
        "# Que es Mark Down \n",
        "\n",
        "Markdown es un lenguaje de marcado para documentar el codigo . El objetivo es simplificar la escritura del lenguaje \n",
        "\n",
        "\n",
        "# negritas\n",
        "------------------------------\n",
        "\n",
        "![Fes](https://upload.wikimedia.org/wikipedia/commons/thumb/5/51/Aragon_Jonhy_corel.jpg/240px-Aragon_Jonhy_corel.jpg)\n",
        "\n",
        "mas informacion en https://github.com/adam-p/markdown-here/wiki/Markdown-Cheatsheet"
      ]
    }
  ]
}