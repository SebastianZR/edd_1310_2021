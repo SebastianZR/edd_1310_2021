{
  "nbformat": 4,
  "nbformat_minor": 0,
  "metadata": {
    "colab": {
      "name": "27Octubre_1310.ipynb",
      "provenance": [],
      "authorship_tag": "ABX9TyPh9j2ZXL3kBtnmQP2Wblk6",
      "include_colab_link": true
    },
    "kernelspec": {
      "name": "python3",
      "display_name": "Python 3"
    }
  },
  "cells": [
    {
      "cell_type": "markdown",
      "metadata": {
        "id": "view-in-github",
        "colab_type": "text"
      },
      "source": [
        "<a href=\"https://colab.research.google.com/github/SebastianZR/edd_1310_2021/blob/master/27Octubre_1310.ipynb\" target=\"_parent\"><img src=\"https://colab.research.google.com/assets/colab-badge.svg\" alt=\"Open In Colab\"/></a>"
      ]
    },
    {
      "cell_type": "code",
      "metadata": {
        "id": "xyZJGiw3_628",
        "outputId": "d16ab633-d29d-488c-f923-be1b6054907b",
        "colab": {
          "base_uri": "https://localhost:8080/",
          "height": 69
        }
      },
      "source": [
        "class Computadora:\n",
        "    def __init__( self , m , p):\n",
        "        self.__marca = m\n",
        "        self.__procesador = p\n",
        "\n",
        "    def to_string( self ):\n",
        "        return \"Marca:\"+self.__marca+\" Procesador:\"+self.__procesador\n",
        "    \n",
        "    def Set_Marca (self, m):\n",
        "        self.__marca= m\n",
        "    def Get_Marca (self):\n",
        "        return self.__marca\n",
        "    def Set_Procesador (self,p):\n",
        "        self.__procesador = p\n",
        "    def Get_Procesador (self):\n",
        "        return self.__procesador\n",
        "    \n",
        "\n",
        "mi_pc = Computadora(\"Toshiba\",\"Intel i7\")\n",
        "print(mi_pc.to_string())\n",
        "mi_pc.__marca=\"HP \" #Intentando cambiar el valor privado \n",
        "mi_pc.Set_Marca(\"HP co.\")\n",
        "print(mi_pc.to_string())\n",
        "print (mi_pc.Get_Procesador())"
      ],
      "execution_count": 6,
      "outputs": [
        {
          "output_type": "stream",
          "text": [
            "Marca:Toshiba Procesador:Intel i7\n",
            "Marca:HP co. Procesador:Intel i7\n",
            "Intel i7\n"
          ],
          "name": "stdout"
        }
      ]
    },
    {
      "cell_type": "markdown",
      "metadata": {
        "id": "wfETN1U1EKTH"
      },
      "source": [
        " # Encapsulamiento en python 3 \n",
        "\n",
        " # tipos:\n",
        "\n",
        " ## Tradicional tipo java \n",
        "    - void setatributo (val)\n",
        "    - tipo getAtributo ()\n",
        "\n",
        " ## Estilo python 3\n",
        " \n",
        "   Utilizando decoradores\n",
        "\n",
        "    - @property\n",
        "    - @atributo.setter\n"
      ]
    },
    {
      "cell_type": "code",
      "metadata": {
        "id": "wYzKPd6bH31G",
        "outputId": "2b49e4fa-0a9b-460a-800a-a931fc7c7aa3",
        "colab": {
          "base_uri": "https://localhost:8080/",
          "height": 104
        }
      },
      "source": [
        "class Computadora :\n",
        "    def __init__(self,m,p):\n",
        "        self.marca = m #Se manda a el decorador @property\n",
        "        self.procesador = p #idem \n",
        "\n",
        "    @property # se declara como atributo privado y funciona como metodo get \n",
        "    def marca (self):\n",
        "        return self.__marca\n",
        "    @marca.setter \n",
        "    def marca (self , m ):\n",
        "        print (\"en el setter de marca \")\n",
        "        self.__marca = m \n",
        "    @property\n",
        "    def procesador (self):\n",
        "        return self.__procesador\n",
        "    @procesador.setter\n",
        "    def procesador (self , p ):\n",
        "        print (\"en el metodo set de procesador \")\n",
        "        self.__procesador = p\n",
        "\n",
        "    def to_string (self):\n",
        "        return \"Marca : \" + self.marca + \" Procesador : \"+ self.procesador\n",
        "mi_pc2 = Computadora (\"Macbook Pro 13 \",\"Intel core i7\")\n",
        "print (mi_pc2.to_string())\n",
        "mi_pc2.marca = \"Dell\"\n",
        "print (mi_pc2.to_string())"
      ],
      "execution_count": 18,
      "outputs": [
        {
          "output_type": "stream",
          "text": [
            "en el setter de marca \n",
            "en el metodo set de procesador \n",
            "Marca : Macbook Pro 13  Procesador : Intel core i7\n",
            "en el setter de marca \n",
            "Marca : Dell Procesador : Intel core i7\n"
          ],
          "name": "stdout"
        }
      ]
    },
    {
      "cell_type": "code",
      "metadata": {
        "id": "D9MpzB2eJncP",
        "outputId": "7667aeca-ec75-4323-8337-77c4d68a7c5a",
        "colab": {
          "base_uri": "https://localhost:8080/",
          "height": 86
        }
      },
      "source": [
        "# herencia en python se logra pasando la clase base ala declaracion \n",
        "\n",
        "class ServidorEmpresarial (Computadora):\n",
        "    def __init__(self):\n",
        "        print (\"Hola servidor\")\n",
        "\n",
        "\n",
        "server = ServidorEmpresarial()\n",
        "server.marca = \"Sun Micro System\"\n",
        "server.procesador = \"intel i 7 \"\n",
        "print (server.to_string())"
      ],
      "execution_count": 19,
      "outputs": [
        {
          "output_type": "stream",
          "text": [
            "Hola servidor\n",
            "en el setter de marca \n",
            "en el metodo set de procesador \n",
            "Marca : Sun Micro System Procesador : intel i 7 \n"
          ],
          "name": "stdout"
        }
      ]
    }
  ]
}