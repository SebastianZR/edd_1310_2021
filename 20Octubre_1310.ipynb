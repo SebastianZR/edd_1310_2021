{
  "nbformat": 4,
  "nbformat_minor": 0,
  "metadata": {
    "colab": {
      "name": "20Octubre_1310.ipynb",
      "provenance": [],
      "collapsed_sections": [],
      "authorship_tag": "ABX9TyMf01wwgI0vHJj6dkbC+mec",
      "include_colab_link": true
    },
    "kernelspec": {
      "name": "python3",
      "display_name": "Python 3"
    }
  },
  "cells": [
    {
      "cell_type": "markdown",
      "metadata": {
        "id": "view-in-github",
        "colab_type": "text"
      },
      "source": [
        "<a href=\"https://colab.research.google.com/github/SebastianZR/edd_1310_2021/blob/master/20Octubre_1310.ipynb\" target=\"_parent\"><img src=\"https://colab.research.google.com/assets/colab-badge.svg\" alt=\"Open In Colab\"/></a>"
      ]
    },
    {
      "cell_type": "code",
      "metadata": {
        "id": "mJKdbuwOxaih"
      },
      "source": [
        "archivo = open (\"numeros.txt\",\"rt\")\n",
        "\n",
        "for linea in archivo.readlines():\n",
        "    for trunc in linea.split(','):\n",
        "        for numeros in trunc.strip():\n",
        "           numerosenteros = int(numeros)"
      ],
      "execution_count": 17,
      "outputs": []
    },
    {
      "cell_type": "markdown",
      "metadata": {
        "id": "6s__UHTk2vBT"
      },
      "source": [
        "# Sintaxis del for en python\n",
        " dos versiones del for\n",
        "   - range \n",
        "   - in iterator"
      ]
    },
    {
      "cell_type": "code",
      "metadata": {
        "id": "P3D6WNsz3SNj",
        "outputId": "caa29a9c-69fb-46aa-83e0-cbf059c356a9",
        "colab": {
          "base_uri": "https://localhost:8080/",
          "height": 168
        }
      },
      "source": [
        "r = range (0,10,2)\n",
        "for x in r:\n",
        "    print (x)\n",
        "\n",
        "colores = ['rojo', 'rosa', 'azul', 'fucsia']\n",
        "\n",
        "for indice in range(0,4,1):\n",
        "    colores [indice]=colores[indice].upper()\n",
        "for col in colores:\n",
        "    print (col)\n"
      ],
      "execution_count": 22,
      "outputs": [
        {
          "output_type": "stream",
          "text": [
            "0\n",
            "2\n",
            "4\n",
            "6\n",
            "8\n",
            "ROJO\n",
            "ROSA\n",
            "AZUL\n",
            "FUCSIA\n"
          ],
          "name": "stdout"
        }
      ]
    },
    {
      "cell_type": "markdown",
      "metadata": {
        "id": "LzVJkjvR8FLV"
      },
      "source": [
        "# Generadores \n",
        "[valor for in x range (10)]"
      ]
    },
    {
      "cell_type": "code",
      "metadata": {
        "id": "PIX7bEAg8V0v",
        "outputId": "10990111-3f26-46fc-d4a8-6f52653e1a01",
        "colab": {
          "base_uri": "https://localhost:8080/",
          "height": 50
        }
      },
      "source": [
        "ren = 3 \n",
        "col = 3\n",
        "lista =[ [] for x in range (3)]\n",
        "lista2 = [[0 for x in range (col)] for x in range (ren)]\n",
        "print (lista)\n",
        "print (lista2)"
      ],
      "execution_count": 38,
      "outputs": [
        {
          "output_type": "stream",
          "text": [
            "[[], [], []]\n",
            "[[0, 0, 0], [0, 0, 0], [0, 0, 0]]\n"
          ],
          "name": "stdout"
        }
      ]
    },
    {
      "cell_type": "markdown",
      "metadata": {
        "id": "5dEgmzZx_R_w"
      },
      "source": [
        "# POO en Python\n",
        "- clase\n",
        "- creacion de objetos \n",
        "- constructor\n",
        "- encapsulamiento\n",
        "- metodos\n",
        "- atributos\n",
        "- herencia"
      ]
    },
    {
      "cell_type": "code",
      "metadata": {
        "id": "xPesPXp5_hFN",
        "outputId": "f1c5d738-119a-4730-944b-23d7db654f54",
        "colab": {
          "base_uri": "https://localhost:8080/",
          "height": 34
        }
      },
      "source": [
        "class Computadora : \n",
        "    def __init__(self,m,p):\n",
        "\n",
        "        self.__marca = m\n",
        "        self.__procesador= p\n",
        "\n",
        "    def to_string(self):\n",
        "        return \" Marca :\" + self.__marca + \" Procesador : \" + self.__procesador\n",
        "\n",
        "mi_pc = Computadora(\"Toshiba\" , \"Rayzen 9\")\n",
        "mi_pc.__marca=\"HP\"\n",
        "print (mi_pc.to_string())"
      ],
      "execution_count": 51,
      "outputs": [
        {
          "output_type": "stream",
          "text": [
            " Marca :Toshiba Procesador : Rayzen 9\n"
          ],
          "name": "stdout"
        }
      ]
    }
  ]
}