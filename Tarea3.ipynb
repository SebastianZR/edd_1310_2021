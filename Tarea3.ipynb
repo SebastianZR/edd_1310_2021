{
  "nbformat": 4,
  "nbformat_minor": 0,
  "metadata": {
    "colab": {
      "name": "Tarea3.ipynb",
      "provenance": [],
      "authorship_tag": "ABX9TyNeqAMuG/5AjY0fLYsdBy8s",
      "include_colab_link": true
    },
    "kernelspec": {
      "name": "python3",
      "display_name": "Python 3"
    }
  },
  "cells": [
    {
      "cell_type": "markdown",
      "metadata": {
        "id": "view-in-github",
        "colab_type": "text"
      },
      "source": [
        "<a href=\"https://colab.research.google.com/github/SebastianZR/edd_1310_2021/blob/master/Tarea3.ipynb\" target=\"_parent\"><img src=\"https://colab.research.google.com/assets/colab-badge.svg\" alt=\"Open In Colab\"/></a>"
      ]
    },
    {
      "cell_type": "code",
      "metadata": {
        "id": "YNK5pbh18dKB",
        "outputId": "3db405ee-dee6-4ae5-817d-1e2da2e5cb43",
        "colab": {
          "base_uri": "https://localhost:8080/",
          "height": 86
        }
      },
      "source": [
        "class Persona :\n",
        "    def __init__(self):\n",
        "        self.__Nombre = \"\"\n",
        "        self.__Edad = \"\"\n",
        "        self.__Estatura = \"\"\n",
        "    def GetNombre (self):\n",
        "        return self.__Nombre\n",
        "    def GetEdad (self):\n",
        "        return self.__Edad\n",
        "    def GetEstatura (self):\n",
        "        return self.__Estatura\n",
        "    def SetNombre (self,nombre):\n",
        "        self.__Nombre=nombre\n",
        "    def SetEdad (self,edad):\n",
        "        self.__Edad = edad\n",
        "    def SetEstatura (self,estatura):\n",
        "        self.__Estatura = estatura\n",
        "    def Dormir ():\n",
        "        print (\"ZZZZZZZ\")\n",
        "    def Comer ():\n",
        "        print (\"Estoy comiendo\")\n",
        "\n",
        "class Celular :\n",
        "    def __init__(self):\n",
        "        self.__Marca = \"\"\n",
        "        self.__Moedelo = \"\"\n",
        "        self.__MemoriaLibre = \"\"\n",
        "    def GetMarca (self):\n",
        "        return self.__Marca\n",
        "    def GetModelo(self):\n",
        "        return self.__Moedelo\n",
        "    def GetMemoriaLibre(self):\n",
        "        return self.__MemoriaLibre\n",
        "    def SetMarca (self,marca):\n",
        "        self.__Marca = marca\n",
        "    def SetModelo (self,modelo):\n",
        "        self.__Moedelo = modelo\n",
        "    def SetMemoriaLibre (self,memorialibre):\n",
        "        self.__MemoriaLibre= memorialibre\n",
        "    def Llamar ():\n",
        "        print (\"Empezando llamada.... \")\n",
        "    def PonerAlarma ():\n",
        "        print (\"Configurando alarma\")\n",
        "Persona.Comer() \n",
        "Persona.Dormir()\n",
        "Celular.Llamar()   \n",
        "Celular.PonerAlarma()\n",
        "    "
      ],
      "execution_count": 12,
      "outputs": [
        {
          "output_type": "stream",
          "text": [
            "Estoy comiendo\n",
            "ZZZZZZZ\n",
            "Empezando llamada.... \n",
            "Configurando alarma\n"
          ],
          "name": "stdout"
        }
      ]
    },
    {
      "cell_type": "code",
      "metadata": {
        "id": "Aah4lKqXB4aZ"
      },
      "source": [
        ""
      ],
      "execution_count": null,
      "outputs": []
    }
  ]
}